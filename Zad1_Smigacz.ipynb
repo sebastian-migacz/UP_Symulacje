{
  "nbformat": 4,
  "nbformat_minor": 0,
  "metadata": {
    "colab": {
      "name": "Zad1_Smigacz.ipynb",
      "provenance": [],
      "collapsed_sections": []
    },
    "kernelspec": {
      "name": "python3",
      "display_name": "Python 3"
    },
    "language_info": {
      "name": "python"
    }
  },
  "cells": [
    {
      "cell_type": "code",
      "execution_count": null,
      "metadata": {
        "id": "7mABOXDihAdL"
      },
      "outputs": [],
      "source": [
        ""
      ]
    },
    {
      "cell_type": "markdown",
      "metadata": {
        "id": "UbsoDWU5KEm-"
      },
      "source": [
        "# Projekt 1\n",
        "  \n",
        "W ramach zadania należy rozwiązać równanie przewodności cieplnej.  \n",
        "1. Ocena dst lub dst+: zadanie 1  \n",
        "2. Ocena db: zadanie 2  \n",
        "3. Ocena bdb: zadanie 3 "
      ]
    },
    {
      "cell_type": "markdown",
      "metadata": {
        "id": "36indJeQu-fi"
      },
      "source": [
        "## Jednowymiarowe zagadnienie przewodności cieplnej (heat equation)"
      ]
    },
    {
      "cell_type": "markdown",
      "metadata": {
        "id": "IUQmnoZru-fj"
      },
      "source": [
        "Równanie:\n",
        "$$\\frac{\\partial u}{\\partial t} = a^2\\frac{\\partial^2u}{\\partial x^2}$$\n",
        "  \n",
        "$0 < x < L, L = \\pi$  \n",
        "$t > 0$  \n",
        "$a = 0.2$  \n",
        "\n",
        "Warunek początkowy:  \n",
        "$f(x) = u(x, 0) = 4\\sin^3(2x)$  \n",
        "\n",
        "Zerowe warunki brzegowe:  \n",
        "$u(0, t) = u(\\pi, t) = 0$"
      ]
    },
    {
      "cell_type": "markdown",
      "metadata": {
        "id": "0RENfQZ9KEnC"
      },
      "source": [
        "## Zadanie 1\n",
        "  \n",
        "Znaleźć rozwiązanie dla równania przewodności cieplnej za pomocą metody rozdzielenia zmiennych.  \n",
        "Na ocenę 3: rozwiązanie bez użycia **sympy**  \n",
        "Na ocenę 3.5: rozwiązanie z użyciem **sympy** (tj. znalezienie lub zweryfikowanie uzyskanych \"ręcznie\" rozwiązań dla równań na funkcję $X(x)$ oraz $T(t)$).  \n",
        "  \n",
        "Podpowiedź: Nalezy przyjąć stałą separacji $$\\lambda = -\\frac{X''(x)}{X(x)}$$.  \n",
        "Końcowe rozwiązanie, podobnie jak rozwiązanie dla równania struny, ma postać nieskończonej sumy rozwiązań zależnych od indeksu $n = 1, 2, 3, ...$."
      ]
    },
    {
      "cell_type": "code",
      "execution_count": 1,
      "metadata": {
        "id": "GlZb9dN1KEnD"
      },
      "outputs": [],
      "source": [
        "import numpy as np\n",
        "from scipy.integrate import quad\n",
        "import matplotlib.pyplot as plt\n",
        "\n",
        "import math\n",
        "from sympy import *\n",
        "init_printing()"
      ]
    },
    {
      "cell_type": "code",
      "source": [
        "n,L,a,x,t,lambd = symbols('n L a x t lambda',positive=True)\n",
        "L = pi\n",
        "\n",
        "X = Function('X')\n",
        "T = Function('T')\n",
        "u = Function('u')\n"
      ],
      "metadata": {
        "id": "NgT5MZR0Qhjh"
      },
      "execution_count": 2,
      "outputs": []
    },
    {
      "cell_type": "markdown",
      "source": [
        "Przedstawiamy $u(x,t) = X(x) * T(t)$\n",
        "\n",
        "$du/dt = X(x) * T'(t)$\n",
        "\n",
        "$a^2 * d^2u/dx^2 = a^2 * X''(x) * T(t)$\n",
        "\n",
        "Czyli:\n",
        "\n",
        "$X(x) * T'(t) = a^2 * X\"(x) * T(t)$\n",
        "\n",
        "dzielimy obustronnie przez $(X(x)*T(t))$\n",
        "\n",
        "$T'(t) / T(t) = a^2 * X\"(x) / X(x)$\n",
        "\n",
        "Teraz podstawiamy stałą separacji lambda i otrzymujemy dwa równania:\n",
        "1) $T'(t)/T(t) = -a^2 * lambda$\n",
        "\n",
        "1) $T'(t) + a^2 * lambda * T(t) = 0$\n",
        "\n",
        "2) $lambda = -X''(x) / X(x)$\n",
        "\n",
        "2) $X''(x) + lambda * X(x) = 0$"
      ],
      "metadata": {
        "id": "vJQ5dYsb9IL2"
      }
    },
    {
      "cell_type": "code",
      "source": [
        "form = Eq(u(x,t).diff(t), a*a*u(x,t).diff(x,2))\n",
        "separated = pde_separate(form, u(x, t), [X(x), T(t)])\n",
        "\n",
        "#wpisujemy uzyskane funkcją pde_separate\n",
        "separated_0 = separated[0]\n",
        "separated_1 = separated[1]"
      ],
      "metadata": {
        "id": "kYnNM7Rgj50j"
      },
      "execution_count": 3,
      "outputs": []
    },
    {
      "cell_type": "code",
      "source": [
        "\n",
        "form\n"
      ],
      "metadata": {
        "colab": {
          "base_uri": "https://localhost:8080/",
          "height": 54
        },
        "id": "NyZrxLtGOIlr",
        "outputId": "a752444c-6753-4ba7-c766-eff8c8eca4ea"
      },
      "execution_count": 4,
      "outputs": [
        {
          "output_type": "execute_result",
          "data": {
            "text/plain": [
              "                   2         \n",
              "∂              2  ∂          \n",
              "──(u(x, t)) = a ⋅───(u(x, t))\n",
              "∂t                 2         \n",
              "                 ∂x          "
            ],
            "image/png": "[encoded data removed]",
            "text/latex": "$\\displaystyle \\frac{\\partial}{\\partial t} u{\\left(x,t \\right)} = a^{2} \\frac{\\partial^{2}}{\\partial x^{2}} u{\\left(x,t \\right)}$"
          },
          "metadata": {},
          "execution_count": 4
        }
      ]
    },
    {
      "cell_type": "code",
      "source": [
        "EquationX = separated_0.subs(separated_0,-lambd)\n",
        "EquationX\n",
        "\n",
        "Equation1 = Eq(X(x).diff(x,2)-EquationX*X(x),0)\n",
        "FX = dsolve(Equation1)\n",
        "FX"
      ],
      "metadata": {
        "id": "pcaUoUXJOKFM",
        "outputId": "de6d5553-5576-4916-dc43-feb5c94aaf32",
        "colab": {
          "base_uri": "https://localhost:8080/",
          "height": 47
        }
      },
      "execution_count": 5,
      "outputs": [
        {
          "output_type": "execute_result",
          "data": {
            "text/plain": [
              "X(x) = C₁⋅sin(√λ⋅x) + C₂⋅cos(√λ⋅x)"
            ],
            "image/png": "[encoded data removed]",
            "text/latex": "$\\displaystyle X{\\left(x \\right)} = C_{1} \\sin{\\left(\\sqrt{\\lambda} x \\right)} + C_{2} \\cos{\\left(\\sqrt{\\lambda} x \\right)}$"
          },
          "metadata": {},
          "execution_count": 5
        }
      ]
    },
    {
      "cell_type": "markdown",
      "source": [
        "Przy pomocy uzyskanego wzoru na X(x), wyznaczymy $\\lambda$:\n",
        "(Interesuje nas tylko przypadek $$\\lambda > 0$$ ponieważ w pozostałych przypadkach stałe wynoszą 0)"
      ],
      "metadata": {
        "id": "9VpoErhv8SyN"
      }
    },
    {
      "cell_type": "markdown",
      "source": [
        "Wykorzystując warunek brzegowy:  \n",
        "$X(0) = C_1 cos(0) + C_2 sin(0) = C_1 * 1 + C_2 * 0 = C_1 + 0 = 0 => C_1 = 0$ \n",
        "<br>\n",
        "Uzyskujemy postać funkcji X(x): <br>\n",
        "$X(x) = C_2 sin(\\sqrt lambda * x)$\n",
        "<br>\n"
      ],
      "metadata": {
        "id": "5I5G_7hQIF06"
      }
    },
    {
      "cell_type": "code",
      "source": [
        "FX_subs = FX.subs(x,0)\n",
        "C2 = FX_subs.rhs\n",
        "FX_subs_C2 = FX.subs(C2*cos(sqrt(lambd)*x),0)\n",
        "FX_subs_C2 = FX_subs_C2.rhs\n",
        "FX_subs_C2 = FX_subs_C2.subs(sin(sqrt(lambd)),1)\n",
        "FX_subs_C2"
      ],
      "metadata": {
        "colab": {
          "base_uri": "https://localhost:8080/",
          "height": 47
        },
        "id": "j2p0acx0LNkg",
        "outputId": "7f5f87da-685b-451a-d1c3-8667affc5e7f"
      },
      "execution_count": 6,
      "outputs": [
        {
          "output_type": "execute_result",
          "data": {
            "text/plain": [
              "C₁⋅sin(√λ⋅x)"
            ],
            "image/png": "[encoded data removed]",
            "text/latex": "$\\displaystyle C_{1} \\sin{\\left(\\sqrt{\\lambda} x \\right)}$"
          },
          "metadata": {},
          "execution_count": 6
        }
      ]
    },
    {
      "cell_type": "markdown",
      "source": [
        "$X(L) = C_2 sin(\\sqrt lambda * L) = 0$\n",
        "\n",
        "Funkcja $sin(\\theta)$ ma wartośc 0 dla argumentów $\\theta$, które są całkowitymi wielokrotnościami liczby $\\pi$, stąd:  \n",
        "$\\sqrt lambda * L = n\\pi$  \n",
        "\n",
        "$\\sqrt lambda = \\frac{n\\pi}{L} $"
      ],
      "metadata": {
        "id": "AxyOQ3c08kmr"
      }
    },
    {
      "cell_type": "code",
      "source": [
        "EquationT=Eq(T(t).diff(t)-EquationX*a**2*T(t),0)\n",
        "EquationT"
      ],
      "metadata": {
        "colab": {
          "base_uri": "https://localhost:8080/",
          "height": 52
        },
        "id": "Vbnfs83yNj0T",
        "outputId": "d724a8a7-cc7c-4b4f-b8b0-cb2771f6a905"
      },
      "execution_count": 7,
      "outputs": [
        {
          "output_type": "execute_result",
          "data": {
            "text/plain": [
              " 2          d           \n",
              "a ⋅λ⋅T(t) + ──(T(t)) = 0\n",
              "            dt          "
            ],
            "image/png": "[encoded data removed]",
            "text/latex": "$\\displaystyle a^{2} \\lambda T{\\left(t \\right)} + \\frac{d}{d t} T{\\left(t \\right)} = 0$"
          },
          "metadata": {},
          "execution_count": 7
        }
      ]
    },
    {
      "cell_type": "code",
      "source": [
        "EquationX"
      ],
      "metadata": {
        "colab": {
          "base_uri": "https://localhost:8080/",
          "height": 38
        },
        "id": "sxQ4vugCPYWs",
        "outputId": "9b63e9ed-07a9-4593-aa11-7d207626c268"
      },
      "execution_count": 8,
      "outputs": [
        {
          "output_type": "execute_result",
          "data": {
            "text/plain": [
              "-λ"
            ],
            "image/png": "[encoded data removed]",
            "text/latex": "$\\displaystyle - \\lambda$"
          },
          "metadata": {},
          "execution_count": 8
        }
      ]
    },
    {
      "cell_type": "markdown",
      "source": [
        "$X(0) = C_1 sin(0) + C_2 cos(0) = C_1 * 0 + C_2 * 1 = C_2 + 0 = 0 => C_2 = 0$  \n",
        "$X(x) = C_1 sin(\\sqrt lambda * x)$"
      ],
      "metadata": {
        "id": "MNhwNyFU67Wk"
      }
    },
    {
      "cell_type": "code",
      "source": [
        "FT=dsolve(EquationT)\n",
        "FT=FT.rhs\n",
        "C1 = FT.subs(t,0)\n",
        "FT"
      ],
      "metadata": {
        "colab": {
          "base_uri": "https://localhost:8080/",
          "height": 41
        },
        "id": "JFj7-Arn4ztW",
        "outputId": "41f2284e-240b-4809-f27d-ef8ad5892007"
      },
      "execution_count": 9,
      "outputs": [
        {
          "output_type": "execute_result",
          "data": {
            "text/plain": [
              "      2    \n",
              "    -a ⋅λ⋅t\n",
              "C₁⋅ℯ       "
            ],
            "image/png": "[encoded data removed]",
            "text/latex": "$\\displaystyle C_{1} e^{- a^{2} \\lambda t}$"
          },
          "metadata": {},
          "execution_count": 9
        }
      ]
    },
    {
      "cell_type": "markdown",
      "source": [
        "$X(L) = C_2 sin(\\sqrt lambda * L) = 0$\n",
        "\n",
        "$\\sqrt lambda * L = n\\pi$\n",
        "\n",
        "$\\sqrt lambda = \\frac{n\\pi}{L}, n = 1, 2, 3, ... $"
      ],
      "metadata": {
        "id": "LwkH4yzFCTuY"
      }
    },
    {
      "cell_type": "markdown",
      "source": [
        "Wyznaczone funkcje możemy podstawić do szukanej przez nas postaci iloczynu:\n"
      ],
      "metadata": {
        "id": "DnTJI1Tw8uVh"
      }
    },
    {
      "cell_type": "code",
      "source": [
        "u = FX_subs_C2*FT\n",
        "u = u.subs(C1*C1,C1)\n",
        "u"
      ],
      "metadata": {
        "colab": {
          "base_uri": "https://localhost:8080/",
          "height": 47
        },
        "id": "uqbIgOZC__C4",
        "outputId": "63806ccb-336a-47e5-af9f-6cae835d1651"
      },
      "execution_count": 10,
      "outputs": [
        {
          "output_type": "execute_result",
          "data": {
            "text/plain": [
              "      2              \n",
              "    -a ⋅λ⋅t          \n",
              "C₁⋅ℯ       ⋅sin(√λ⋅x)"
            ],
            "image/png": "[encoded data removed]",
            "text/latex": "$\\displaystyle C_{1} e^{- a^{2} \\lambda t} \\sin{\\left(\\sqrt{\\lambda} x \\right)}$"
          },
          "metadata": {},
          "execution_count": 10
        }
      ]
    },
    {
      "cell_type": "markdown",
      "metadata": {
        "id": "F6HAMzLNKEnD"
      },
      "source": [
        "\n",
        "### Kolejne zadania można rozwiązać z użyciem dowolnej biblioteki pozwalających tworzyć wykresy i animacje (może, ale nie musi to być biblioteka matplotlib)."
      ]
    },
    {
      "cell_type": "markdown",
      "metadata": {
        "id": "ghArHuo5KEnD"
      },
      "source": [
        "## Zadanie 2\n",
        "  \n",
        "Zaprogramować znalezione w zadaniu 1 rozwiązanie, tj. zaimplementować funkcję $u(x, t)$ i zilustrować rozwiązanie na wykresach.\n",
        "  \n",
        "Na ocenę 4: poprawna implementacja funkcji $u(x, t)$ oraz przedstawienie rozwiązania na kilku (3-5) wykresach:  \n",
        "Pierwszy wykres ma przedstawiać wykres funkcji $u(x, t)$ w momencie $t=0$, kolejne zaś funkcję $u(x, t)$ dla kolejnych momentów czasowych ($t>0$) dobranych tak, aby można było zaobserwować na kolejnych wykresach stopniowe wyrównywanie się temperatury."
      ]
    },
    {
      "cell_type": "code",
      "source": [
        "a=0.2\n",
        "n=np.arange(150)\n",
        "\n",
        "def f(x):\n",
        "  return 4*sin(2*x)**3\n",
        "\n",
        "Res = [2/L * quad(lambda x: f(x)*np.sin(n*x), 0, L)[0] for n in range(0,150) ]\n",
        "\n",
        "def u(x,t):\n",
        "  if t<0:\n",
        "    return None\n",
        "  return sum(Res*np.exp(-a**2*n**2*t)*np.sin(n*x))\n",
        "u=np.vectorize(u)\n"
      ],
      "metadata": {
        "id": "TevqRikQeBge"
      },
      "execution_count": 11,
      "outputs": []
    },
    {
      "cell_type": "code",
      "source": [
        "x = np.linspace(0,np.pi,150)\n",
        "fig, ax = plt.subplots()\n",
        "ax.set_facecolor((0.1, 0.1, 0.1))\n",
        "\n",
        "ax.plot(x, u(x,0))\n",
        "\n",
        "ax.set_ylim([-5, 5])\n",
        "ax.grid(True)\n",
        "plt.show()"
      ],
      "metadata": {
        "colab": {
          "base_uri": "https://localhost:8080/",
          "height": 265
        },
        "id": "3bFsH4EaNUC7",
        "outputId": "d64c98b4-e653-434b-f0e3-9d1dbef83c56"
      },
      "execution_count": 14,
      "outputs": [
        {
          "output_type": "display_data",
          "data": {
            "text/plain": [
              "<Figure size 432x288 with 1 Axes>"
            ],
            "image/png": "[encoded data removed]"
          },
          "metadata": {
            "needs_background": "light"
          }
        }
      ]
    },
    {
      "cell_type": "code",
      "source": [
        "x = np.linspace(0,np.pi,150)\n",
        "fig, ax = plt.subplots()\n",
        "ax.set_facecolor((0.1, 0.1, 0.1))\n",
        "\n",
        "ax.plot(x, u(x,1))\n",
        "\n",
        "ax.set_ylim([-5, 5])\n",
        "ax.grid(True)\n",
        "plt.show()"
      ],
      "metadata": {
        "colab": {
          "base_uri": "https://localhost:8080/",
          "height": 265
        },
        "id": "sExxDIdx2ygO",
        "outputId": "8ce8eded-eb54-4c36-f2db-a71425bb6197"
      },
      "execution_count": 15,
      "outputs": [
        {
          "output_type": "display_data",
          "data": {
            "text/plain": [
              "<Figure size 432x288 with 1 Axes>"
            ],
            "image/png": "[encoded data removed]"
          },
          "metadata": {
            "needs_background": "light"
          }
        }
      ]
    },
    {
      "cell_type": "code",
      "source": [
        "x = np.linspace(0,np.pi,150)\n",
        "fig, ax = plt.subplots()\n",
        "ax.set_facecolor((0.1, 0.1, 0.1))\n",
        "\n",
        "ax.plot(x, u(x,2))\n",
        "\n",
        "ax.set_ylim([-5, 5])\n",
        "ax.grid(True)\n",
        "plt.show()"
      ],
      "metadata": {
        "colab": {
          "base_uri": "https://localhost:8080/",
          "height": 265
        },
        "id": "bAnEiDsJ208s",
        "outputId": "1cd4f511-75f3-4560-9c39-efdad7cc352d"
      },
      "execution_count": 16,
      "outputs": [
        {
          "output_type": "display_data",
          "data": {
            "text/plain": [
              "<Figure size 432x288 with 1 Axes>"
            ],
            "image/png": "[encoded data removed]"
          },
          "metadata": {
            "needs_background": "light"
          }
        }
      ]
    },
    {
      "cell_type": "markdown",
      "source": [
        "# **Zadanie 3**\n",
        "Zaprogramować animację, przedstawiającą przebieg rozkładu temperatury w czasie (wyrównywanie się temperatury).\n"
      ],
      "metadata": {
        "id": "3fDbjuXtle9e"
      }
    },
    {
      "cell_type": "code",
      "source": [
        "from matplotlib import rc\n",
        "rc('animation', html='jshtml')\n",
        "%matplotlib notebook\n",
        "\n",
        "import matplotlib.animation as animation\n",
        "\n",
        "fs_approx = np.array([u(x, t) for t in range(0, 150)])\n",
        "fig, ax = plt.subplots(figsize=(7,7))\n",
        "line, = ax.plot(x, u(x,0))\n",
        "ax.set_ylim([-5, 5])\n",
        "ax.grid(True)\n",
        "ax.set_facecolor((0.1, 0.1, 0.1))\n",
        "\n",
        "\n",
        "def animate(i):\n",
        "    line.set_ydata(u(x,i))  \n",
        "    return line,\n",
        "\n",
        "ani = animation.FuncAnimation(fig, animate, np.arange(0, 20,1), interval=1, repeat=False, blit=True)\n",
        "ani"
      ],
      "metadata": {
        "colab": {
          "base_uri": "https://localhost:8080/",
          "height": 380
        },
        "id": "JUZVgHVZlnsO",
        "outputId": "f76d67dc-a6c4-4245-deaa-17793a521929"
      },
      "execution_count": 18,
      "outputs": [
        {
          "output_type": "error",
          "ename": "KeyboardInterrupt",
          "evalue": "ignored",
          "traceback": [
            "\u001b[0;31m---------------------------------------------------------------------------\u001b[0m",
            "\u001b[0;31mKeyboardInterrupt\u001b[0m                         Traceback (most recent call last)",
            "\u001b[0;32m<ipython-input-18-658d0407a9d2>\u001b[0m in \u001b[0;36m<module>\u001b[0;34m()\u001b[0m\n\u001b[1;32m      5\u001b[0m \u001b[0;32mimport\u001b[0m \u001b[0mmatplotlib\u001b[0m\u001b[0;34m.\u001b[0m\u001b[0manimation\u001b[0m \u001b[0;32mas\u001b[0m \u001b[0manimation\u001b[0m\u001b[0;34m\u001b[0m\u001b[0;34m\u001b[0m\u001b[0m\n\u001b[1;32m      6\u001b[0m \u001b[0;34m\u001b[0m\u001b[0m\n\u001b[0;32m----> 7\u001b[0;31m \u001b[0mfs_approx\u001b[0m \u001b[0;34m=\u001b[0m \u001b[0mnp\u001b[0m\u001b[0;34m.\u001b[0m\u001b[0marray\u001b[0m\u001b[0;34m(\u001b[0m\u001b[0;34m[\u001b[0m\u001b[0mu\u001b[0m\u001b[0;34m(\u001b[0m\u001b[0mx\u001b[0m\u001b[0;34m,\u001b[0m \u001b[0mt\u001b[0m\u001b[0;34m)\u001b[0m \u001b[0;32mfor\u001b[0m \u001b[0mt\u001b[0m \u001b[0;32min\u001b[0m \u001b[0mrange\u001b[0m\u001b[0;34m(\u001b[0m\u001b[0;36m0\u001b[0m\u001b[0;34m,\u001b[0m \u001b[0;36m150\u001b[0m\u001b[0;34m)\u001b[0m\u001b[0;34m]\u001b[0m\u001b[0;34m)\u001b[0m\u001b[0;34m\u001b[0m\u001b[0;34m\u001b[0m\u001b[0m\n\u001b[0m\u001b[1;32m      8\u001b[0m \u001b[0mfig\u001b[0m\u001b[0;34m,\u001b[0m \u001b[0max\u001b[0m \u001b[0;34m=\u001b[0m \u001b[0mplt\u001b[0m\u001b[0;34m.\u001b[0m\u001b[0msubplots\u001b[0m\u001b[0;34m(\u001b[0m\u001b[0mfigsize\u001b[0m\u001b[0;34m=\u001b[0m\u001b[0;34m(\u001b[0m\u001b[0;36m7\u001b[0m\u001b[0;34m,\u001b[0m\u001b[0;36m7\u001b[0m\u001b[0;34m)\u001b[0m\u001b[0;34m)\u001b[0m\u001b[0;34m\u001b[0m\u001b[0;34m\u001b[0m\u001b[0m\n\u001b[1;32m      9\u001b[0m \u001b[0mline\u001b[0m\u001b[0;34m,\u001b[0m \u001b[0;34m=\u001b[0m \u001b[0max\u001b[0m\u001b[0;34m.\u001b[0m\u001b[0mplot\u001b[0m\u001b[0;34m(\u001b[0m\u001b[0mx\u001b[0m\u001b[0;34m,\u001b[0m \u001b[0mu\u001b[0m\u001b[0;34m(\u001b[0m\u001b[0mx\u001b[0m\u001b[0;34m,\u001b[0m\u001b[0;36m0\u001b[0m\u001b[0;34m)\u001b[0m\u001b[0;34m)\u001b[0m\u001b[0;34m\u001b[0m\u001b[0;34m\u001b[0m\u001b[0m\n",
            "\u001b[0;32m<ipython-input-18-658d0407a9d2>\u001b[0m in \u001b[0;36m<listcomp>\u001b[0;34m(.0)\u001b[0m\n\u001b[1;32m      5\u001b[0m \u001b[0;32mimport\u001b[0m \u001b[0mmatplotlib\u001b[0m\u001b[0;34m.\u001b[0m\u001b[0manimation\u001b[0m \u001b[0;32mas\u001b[0m \u001b[0manimation\u001b[0m\u001b[0;34m\u001b[0m\u001b[0;34m\u001b[0m\u001b[0m\n\u001b[1;32m      6\u001b[0m \u001b[0;34m\u001b[0m\u001b[0m\n\u001b[0;32m----> 7\u001b[0;31m \u001b[0mfs_approx\u001b[0m \u001b[0;34m=\u001b[0m \u001b[0mnp\u001b[0m\u001b[0;34m.\u001b[0m\u001b[0marray\u001b[0m\u001b[0;34m(\u001b[0m\u001b[0;34m[\u001b[0m\u001b[0mu\u001b[0m\u001b[0;34m(\u001b[0m\u001b[0mx\u001b[0m\u001b[0;34m,\u001b[0m \u001b[0mt\u001b[0m\u001b[0;34m)\u001b[0m \u001b[0;32mfor\u001b[0m \u001b[0mt\u001b[0m \u001b[0;32min\u001b[0m \u001b[0mrange\u001b[0m\u001b[0;34m(\u001b[0m\u001b[0;36m0\u001b[0m\u001b[0;34m,\u001b[0m \u001b[0;36m150\u001b[0m\u001b[0;34m)\u001b[0m\u001b[0;34m]\u001b[0m\u001b[0;34m)\u001b[0m\u001b[0;34m\u001b[0m\u001b[0;34m\u001b[0m\u001b[0m\n\u001b[0m\u001b[1;32m      8\u001b[0m \u001b[0mfig\u001b[0m\u001b[0;34m,\u001b[0m \u001b[0max\u001b[0m \u001b[0;34m=\u001b[0m \u001b[0mplt\u001b[0m\u001b[0;34m.\u001b[0m\u001b[0msubplots\u001b[0m\u001b[0;34m(\u001b[0m\u001b[0mfigsize\u001b[0m\u001b[0;34m=\u001b[0m\u001b[0;34m(\u001b[0m\u001b[0;36m7\u001b[0m\u001b[0;34m,\u001b[0m\u001b[0;36m7\u001b[0m\u001b[0;34m)\u001b[0m\u001b[0;34m)\u001b[0m\u001b[0;34m\u001b[0m\u001b[0;34m\u001b[0m\u001b[0m\n\u001b[1;32m      9\u001b[0m \u001b[0mline\u001b[0m\u001b[0;34m,\u001b[0m \u001b[0;34m=\u001b[0m \u001b[0max\u001b[0m\u001b[0;34m.\u001b[0m\u001b[0mplot\u001b[0m\u001b[0;34m(\u001b[0m\u001b[0mx\u001b[0m\u001b[0;34m,\u001b[0m \u001b[0mu\u001b[0m\u001b[0;34m(\u001b[0m\u001b[0mx\u001b[0m\u001b[0;34m,\u001b[0m\u001b[0;36m0\u001b[0m\u001b[0;34m)\u001b[0m\u001b[0;34m)\u001b[0m\u001b[0;34m\u001b[0m\u001b[0;34m\u001b[0m\u001b[0m\n",
            "\u001b[0;32m/usr/local/lib/python3.7/dist-packages/numpy/lib/function_base.py\u001b[0m in \u001b[0;36m__call__\u001b[0;34m(self, *args, **kwargs)\u001b[0m\n\u001b[1;32m   2161\u001b[0m             \u001b[0mvargs\u001b[0m\u001b[0;34m.\u001b[0m\u001b[0mextend\u001b[0m\u001b[0;34m(\u001b[0m\u001b[0;34m[\u001b[0m\u001b[0mkwargs\u001b[0m\u001b[0;34m[\u001b[0m\u001b[0m_n\u001b[0m\u001b[0;34m]\u001b[0m \u001b[0;32mfor\u001b[0m \u001b[0m_n\u001b[0m \u001b[0;32min\u001b[0m \u001b[0mnames\u001b[0m\u001b[0;34m]\u001b[0m\u001b[0;34m)\u001b[0m\u001b[0;34m\u001b[0m\u001b[0;34m\u001b[0m\u001b[0m\n\u001b[1;32m   2162\u001b[0m \u001b[0;34m\u001b[0m\u001b[0m\n\u001b[0;32m-> 2163\u001b[0;31m         \u001b[0;32mreturn\u001b[0m \u001b[0mself\u001b[0m\u001b[0;34m.\u001b[0m\u001b[0m_vectorize_call\u001b[0m\u001b[0;34m(\u001b[0m\u001b[0mfunc\u001b[0m\u001b[0;34m=\u001b[0m\u001b[0mfunc\u001b[0m\u001b[0;34m,\u001b[0m \u001b[0margs\u001b[0m\u001b[0;34m=\u001b[0m\u001b[0mvargs\u001b[0m\u001b[0;34m)\u001b[0m\u001b[0;34m\u001b[0m\u001b[0;34m\u001b[0m\u001b[0m\n\u001b[0m\u001b[1;32m   2164\u001b[0m \u001b[0;34m\u001b[0m\u001b[0m\n\u001b[1;32m   2165\u001b[0m     \u001b[0;32mdef\u001b[0m \u001b[0m_get_ufunc_and_otypes\u001b[0m\u001b[0;34m(\u001b[0m\u001b[0mself\u001b[0m\u001b[0;34m,\u001b[0m \u001b[0mfunc\u001b[0m\u001b[0;34m,\u001b[0m \u001b[0margs\u001b[0m\u001b[0;34m)\u001b[0m\u001b[0;34m:\u001b[0m\u001b[0;34m\u001b[0m\u001b[0;34m\u001b[0m\u001b[0m\n",
            "\u001b[0;32m/usr/local/lib/python3.7/dist-packages/numpy/lib/function_base.py\u001b[0m in \u001b[0;36m_vectorize_call\u001b[0;34m(self, func, args)\u001b[0m\n\u001b[1;32m   2244\u001b[0m             \u001b[0minputs\u001b[0m \u001b[0;34m=\u001b[0m \u001b[0;34m[\u001b[0m\u001b[0masanyarray\u001b[0m\u001b[0;34m(\u001b[0m\u001b[0ma\u001b[0m\u001b[0;34m,\u001b[0m \u001b[0mdtype\u001b[0m\u001b[0;34m=\u001b[0m\u001b[0mobject\u001b[0m\u001b[0;34m)\u001b[0m \u001b[0;32mfor\u001b[0m \u001b[0ma\u001b[0m \u001b[0;32min\u001b[0m \u001b[0margs\u001b[0m\u001b[0;34m]\u001b[0m\u001b[0;34m\u001b[0m\u001b[0;34m\u001b[0m\u001b[0m\n\u001b[1;32m   2245\u001b[0m \u001b[0;34m\u001b[0m\u001b[0m\n\u001b[0;32m-> 2246\u001b[0;31m             \u001b[0moutputs\u001b[0m \u001b[0;34m=\u001b[0m \u001b[0mufunc\u001b[0m\u001b[0;34m(\u001b[0m\u001b[0;34m*\u001b[0m\u001b[0minputs\u001b[0m\u001b[0;34m)\u001b[0m\u001b[0;34m\u001b[0m\u001b[0;34m\u001b[0m\u001b[0m\n\u001b[0m\u001b[1;32m   2247\u001b[0m \u001b[0;34m\u001b[0m\u001b[0m\n\u001b[1;32m   2248\u001b[0m             \u001b[0;32mif\u001b[0m \u001b[0mufunc\u001b[0m\u001b[0;34m.\u001b[0m\u001b[0mnout\u001b[0m \u001b[0;34m==\u001b[0m \u001b[0;36m1\u001b[0m\u001b[0;34m:\u001b[0m\u001b[0;34m\u001b[0m\u001b[0;34m\u001b[0m\u001b[0m\n",
            "\u001b[0;32m<ipython-input-11-3e128a8531d9>\u001b[0m in \u001b[0;36mu\u001b[0;34m(x, t)\u001b[0m\n\u001b[1;32m     10\u001b[0m   \u001b[0;32mif\u001b[0m \u001b[0mt\u001b[0m\u001b[0;34m<\u001b[0m\u001b[0;36m0\u001b[0m\u001b[0;34m:\u001b[0m\u001b[0;34m\u001b[0m\u001b[0;34m\u001b[0m\u001b[0m\n\u001b[1;32m     11\u001b[0m     \u001b[0;32mreturn\u001b[0m \u001b[0;32mNone\u001b[0m\u001b[0;34m\u001b[0m\u001b[0;34m\u001b[0m\u001b[0m\n\u001b[0;32m---> 12\u001b[0;31m   \u001b[0;32mreturn\u001b[0m \u001b[0msum\u001b[0m\u001b[0;34m(\u001b[0m\u001b[0mRes\u001b[0m\u001b[0;34m*\u001b[0m\u001b[0mnp\u001b[0m\u001b[0;34m.\u001b[0m\u001b[0mexp\u001b[0m\u001b[0;34m(\u001b[0m\u001b[0;34m-\u001b[0m\u001b[0ma\u001b[0m\u001b[0;34m**\u001b[0m\u001b[0;36m2\u001b[0m\u001b[0;34m*\u001b[0m\u001b[0mn\u001b[0m\u001b[0;34m**\u001b[0m\u001b[0;36m2\u001b[0m\u001b[0;34m*\u001b[0m\u001b[0mt\u001b[0m\u001b[0;34m)\u001b[0m\u001b[0;34m*\u001b[0m\u001b[0mnp\u001b[0m\u001b[0;34m.\u001b[0m\u001b[0msin\u001b[0m\u001b[0;34m(\u001b[0m\u001b[0mn\u001b[0m\u001b[0;34m*\u001b[0m\u001b[0mx\u001b[0m\u001b[0;34m)\u001b[0m\u001b[0;34m)\u001b[0m\u001b[0;34m\u001b[0m\u001b[0;34m\u001b[0m\u001b[0m\n\u001b[0m\u001b[1;32m     13\u001b[0m \u001b[0mu\u001b[0m\u001b[0;34m=\u001b[0m\u001b[0mnp\u001b[0m\u001b[0;34m.\u001b[0m\u001b[0mvectorize\u001b[0m\u001b[0;34m(\u001b[0m\u001b[0mu\u001b[0m\u001b[0;34m)\u001b[0m\u001b[0;34m\u001b[0m\u001b[0;34m\u001b[0m\u001b[0m\n",
            "\u001b[0;32m/usr/local/lib/python3.7/dist-packages/sympy/core/decorators.py\u001b[0m in \u001b[0;36m_func\u001b[0;34m(self, other)\u001b[0m\n\u001b[1;32m    260\u001b[0m             \u001b[0;32mif\u001b[0m \u001b[0;32mnot\u001b[0m \u001b[0mhasattr\u001b[0m\u001b[0;34m(\u001b[0m\u001b[0mother\u001b[0m\u001b[0;34m,\u001b[0m \u001b[0;34m'_op_priority'\u001b[0m\u001b[0;34m)\u001b[0m\u001b[0;34m:\u001b[0m\u001b[0;34m\u001b[0m\u001b[0;34m\u001b[0m\u001b[0m\n\u001b[1;32m    261\u001b[0m                 \u001b[0;32mtry\u001b[0m\u001b[0;34m:\u001b[0m\u001b[0;34m\u001b[0m\u001b[0;34m\u001b[0m\u001b[0m\n\u001b[0;32m--> 262\u001b[0;31m                     \u001b[0mother\u001b[0m \u001b[0;34m=\u001b[0m \u001b[0msympify\u001b[0m\u001b[0;34m(\u001b[0m\u001b[0mother\u001b[0m\u001b[0;34m,\u001b[0m \u001b[0mstrict\u001b[0m\u001b[0;34m=\u001b[0m\u001b[0;32mTrue\u001b[0m\u001b[0;34m)\u001b[0m\u001b[0;34m\u001b[0m\u001b[0;34m\u001b[0m\u001b[0m\n\u001b[0m\u001b[1;32m    263\u001b[0m                 \u001b[0;32mexcept\u001b[0m \u001b[0mSympifyError\u001b[0m\u001b[0;34m:\u001b[0m\u001b[0;34m\u001b[0m\u001b[0;34m\u001b[0m\u001b[0m\n\u001b[1;32m    264\u001b[0m                     \u001b[0;32mreturn\u001b[0m \u001b[0mretval\u001b[0m\u001b[0;34m\u001b[0m\u001b[0;34m\u001b[0m\u001b[0m\n",
            "\u001b[0;32m/usr/local/lib/python3.7/dist-packages/sympy/core/sympify.py\u001b[0m in \u001b[0;36msympify\u001b[0;34m(a, locals, convert_xor, strict, rational, evaluate)\u001b[0m\n\u001b[1;32m    360\u001b[0m     \u001b[0mconv\u001b[0m \u001b[0;34m=\u001b[0m \u001b[0mconverter\u001b[0m\u001b[0;34m.\u001b[0m\u001b[0mget\u001b[0m\u001b[0;34m(\u001b[0m\u001b[0mcls\u001b[0m\u001b[0;34m,\u001b[0m \u001b[0;32mNone\u001b[0m\u001b[0;34m)\u001b[0m\u001b[0;34m\u001b[0m\u001b[0;34m\u001b[0m\u001b[0m\n\u001b[1;32m    361\u001b[0m     \u001b[0;32mif\u001b[0m \u001b[0mconv\u001b[0m \u001b[0;32mis\u001b[0m \u001b[0;32mnot\u001b[0m \u001b[0;32mNone\u001b[0m\u001b[0;34m:\u001b[0m\u001b[0;34m\u001b[0m\u001b[0;34m\u001b[0m\u001b[0m\n\u001b[0;32m--> 362\u001b[0;31m         \u001b[0;32mreturn\u001b[0m \u001b[0mconv\u001b[0m\u001b[0;34m(\u001b[0m\u001b[0ma\u001b[0m\u001b[0;34m)\u001b[0m\u001b[0;34m\u001b[0m\u001b[0;34m\u001b[0m\u001b[0m\n\u001b[0m\u001b[1;32m    363\u001b[0m \u001b[0;34m\u001b[0m\u001b[0m\n\u001b[1;32m    364\u001b[0m     \u001b[0;32mfor\u001b[0m \u001b[0msuperclass\u001b[0m \u001b[0;32min\u001b[0m \u001b[0mgetmro\u001b[0m\u001b[0;34m(\u001b[0m\u001b[0mcls\u001b[0m\u001b[0;34m)\u001b[0m\u001b[0;34m:\u001b[0m\u001b[0;34m\u001b[0m\u001b[0;34m\u001b[0m\u001b[0m\n",
            "\u001b[0;32m/usr/local/lib/python3.7/dist-packages/sympy/core/numbers.py\u001b[0m in \u001b[0;36m__new__\u001b[0;34m(***failed resolving arguments***)\u001b[0m\n\u001b[1;32m   1118\u001b[0m                         \u001b[0mdps\u001b[0m \u001b[0;34m=\u001b[0m \u001b[0mmax\u001b[0m\u001b[0;34m(\u001b[0m\u001b[0mdps\u001b[0m\u001b[0;34m,\u001b[0m \u001b[0mlen\u001b[0m\u001b[0;34m(\u001b[0m\u001b[0mstr\u001b[0m\u001b[0;34m(\u001b[0m\u001b[0mnum\u001b[0m\u001b[0;34m)\u001b[0m\u001b[0;34m.\u001b[0m\u001b[0mlstrip\u001b[0m\u001b[0;34m(\u001b[0m\u001b[0;34m'-'\u001b[0m\u001b[0;34m)\u001b[0m\u001b[0;34m)\u001b[0m\u001b[0;34m)\u001b[0m\u001b[0;34m\u001b[0m\u001b[0;34m\u001b[0m\u001b[0m\n\u001b[1;32m   1119\u001b[0m                     \u001b[0mdps\u001b[0m \u001b[0;34m=\u001b[0m \u001b[0mmax\u001b[0m\u001b[0;34m(\u001b[0m\u001b[0;36m15\u001b[0m\u001b[0;34m,\u001b[0m \u001b[0mdps\u001b[0m\u001b[0;34m)\u001b[0m\u001b[0;34m\u001b[0m\u001b[0;34m\u001b[0m\u001b[0m\n\u001b[0;32m-> 1120\u001b[0;31m                     \u001b[0mprecision\u001b[0m \u001b[0;34m=\u001b[0m \u001b[0mmlib\u001b[0m\u001b[0;34m.\u001b[0m\u001b[0mlibmpf\u001b[0m\u001b[0;34m.\u001b[0m\u001b[0mdps_to_prec\u001b[0m\u001b[0;34m(\u001b[0m\u001b[0mdps\u001b[0m\u001b[0;34m)\u001b[0m\u001b[0;34m\u001b[0m\u001b[0;34m\u001b[0m\u001b[0m\n\u001b[0m\u001b[1;32m   1121\u001b[0m         \u001b[0;32melif\u001b[0m \u001b[0mprecision\u001b[0m \u001b[0;34m==\u001b[0m \u001b[0;34m''\u001b[0m \u001b[0;32mand\u001b[0m \u001b[0mdps\u001b[0m \u001b[0;32mis\u001b[0m \u001b[0;32mNone\u001b[0m \u001b[0;32mor\u001b[0m \u001b[0mprecision\u001b[0m \u001b[0;32mis\u001b[0m \u001b[0;32mNone\u001b[0m \u001b[0;32mand\u001b[0m \u001b[0mdps\u001b[0m \u001b[0;34m==\u001b[0m \u001b[0;34m''\u001b[0m\u001b[0;34m:\u001b[0m\u001b[0;34m\u001b[0m\u001b[0;34m\u001b[0m\u001b[0m\n\u001b[1;32m   1122\u001b[0m             \u001b[0;32mif\u001b[0m \u001b[0;32mnot\u001b[0m \u001b[0misinstance\u001b[0m\u001b[0;34m(\u001b[0m\u001b[0mnum\u001b[0m\u001b[0;34m,\u001b[0m \u001b[0mstr\u001b[0m\u001b[0;34m)\u001b[0m\u001b[0;34m:\u001b[0m\u001b[0;34m\u001b[0m\u001b[0;34m\u001b[0m\u001b[0m\n",
            "\u001b[0;32m/usr/local/lib/python3.7/dist-packages/mpmath/libmp/libmpf.py\u001b[0m in \u001b[0;36mdps_to_prec\u001b[0;34m(n)\u001b[0m\n\u001b[1;32m     65\u001b[0m     \"\"\"Return the number of bits required to represent n decimals\n\u001b[1;32m     66\u001b[0m     accurately.\"\"\"\n\u001b[0;32m---> 67\u001b[0;31m     \u001b[0;32mreturn\u001b[0m \u001b[0mmax\u001b[0m\u001b[0;34m(\u001b[0m\u001b[0;36m1\u001b[0m\u001b[0;34m,\u001b[0m \u001b[0mint\u001b[0m\u001b[0;34m(\u001b[0m\u001b[0mround\u001b[0m\u001b[0;34m(\u001b[0m\u001b[0;34m(\u001b[0m\u001b[0mint\u001b[0m\u001b[0;34m(\u001b[0m\u001b[0mn\u001b[0m\u001b[0;34m)\u001b[0m\u001b[0;34m+\u001b[0m\u001b[0;36m1\u001b[0m\u001b[0;34m)\u001b[0m\u001b[0;34m*\u001b[0m\u001b[0;36m3.3219280948873626\u001b[0m\u001b[0;34m)\u001b[0m\u001b[0;34m)\u001b[0m\u001b[0;34m)\u001b[0m\u001b[0;34m\u001b[0m\u001b[0;34m\u001b[0m\u001b[0m\n\u001b[0m\u001b[1;32m     68\u001b[0m \u001b[0;34m\u001b[0m\u001b[0m\n\u001b[1;32m     69\u001b[0m \u001b[0;32mdef\u001b[0m \u001b[0mrepr_dps\u001b[0m\u001b[0;34m(\u001b[0m\u001b[0mn\u001b[0m\u001b[0;34m)\u001b[0m\u001b[0;34m:\u001b[0m\u001b[0;34m\u001b[0m\u001b[0;34m\u001b[0m\u001b[0m\n",
            "\u001b[0;31mKeyboardInterrupt\u001b[0m: "
          ]
        }
      ]
    }
  ]
}